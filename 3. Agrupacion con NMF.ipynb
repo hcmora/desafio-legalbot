{
 "cells": [
  {
   "cell_type": "code",
   "execution_count": 1,
   "metadata": {},
   "outputs": [],
   "source": [
    "# Por ultimo, probaremos agrupar los datos a traves del metodo de factorizacion de matrices.\n",
    "# Basicamente, lo que buscaremos aqui es descomponer la matriz sparse que se genera con la \n",
    "# frecuencia relativa de cada palabra y aproximarla con una combinacion lineal de k temas"
   ]
  },
  {
   "cell_type": "code",
   "execution_count": 2,
   "metadata": {},
   "outputs": [],
   "source": [
    "with open('objetos.txt') as txt:\n",
    "    lines = txt.read().split('\\n\\n')"
   ]
  },
  {
   "cell_type": "code",
   "execution_count": 3,
   "metadata": {},
   "outputs": [],
   "source": [
    "from sklearn.feature_extraction.text import TfidfVectorizer"
   ]
  },
  {
   "cell_type": "code",
   "execution_count": 4,
   "metadata": {},
   "outputs": [],
   "source": [
    "# Nuevamente, agregamos las restricciones al vectorizador encontradas previamente, y sumamos otras\n",
    "# observadas en el proceso de LDA que no aportan a definir un tipo de objeto de sociedad\n",
    "stop_w = ['de','la','a','el','que','en','los','las','con','al','sus','del','por','como','para','toda','todo','servicios',\n",
    "         'cualquier','otros','general','tipo','tipos','actividades','ya','similares','objeto','no','actividad','otra',\n",
    "         'terceros','cuenta','propia','bienes','clase','ajena','act','propios','sociedad','sociedades','socios','su','sea',\n",
    "         'relacionadas','otras','relacionados','especializado','especializados','nuevos','empleadores']\n",
    "\n",
    "tfidf = TfidfVectorizer(max_df=0.9,min_df=2,stop_words=stop_w)"
   ]
  },
  {
   "cell_type": "code",
   "execution_count": 5,
   "metadata": {},
   "outputs": [],
   "source": [
    "mtx = tfidf.fit_transform(lines)"
   ]
  },
  {
   "cell_type": "code",
   "execution_count": 6,
   "metadata": {},
   "outputs": [],
   "source": [
    "# Ahora importamos la clase NMF (Non matrix Factorization)\n",
    "from sklearn.decomposition import NMF"
   ]
  },
  {
   "cell_type": "code",
   "execution_count": 7,
   "metadata": {},
   "outputs": [],
   "source": [
    "# Tal como fue mencionado en el metodo LDA, trataremos de definir 15 tipos de objeto\n",
    "k = 15\n",
    "nmf_model = NMF(n_components=k,random_state=7)"
   ]
  },
  {
   "cell_type": "code",
   "execution_count": 8,
   "metadata": {},
   "outputs": [
    {
     "data": {
      "text/plain": [
       "NMF(alpha=0.0, beta_loss='frobenius', init=None, l1_ratio=0.0, max_iter=200,\n",
       "  n_components=15, random_state=7, shuffle=False, solver='cd', tol=0.0001,\n",
       "  verbose=0)"
      ]
     },
     "execution_count": 8,
     "metadata": {},
     "output_type": "execute_result"
    }
   ],
   "source": [
    "nmf_model.fit(mtx)"
   ]
  },
  {
   "cell_type": "code",
   "execution_count": 9,
   "metadata": {
    "scrolled": true
   },
   "outputs": [
    {
     "name": "stdout",
     "output_type": "stream",
     "text": [
      "Tema 0:\n",
      "['venta', 'alimentos', 'bebidas', 'tabacos', 'prod', 'realizado', 'almc', 'almacenes', 'comercio', 'menor']\n",
      "\n",
      "\n",
      "Tema 1:\n",
      "['embarcaciones', 'demolición', 'electricidad', 'ferretería', 'muebles', 'proyectos', 'obras', 'materiales', 'edificios', 'construcción']\n",
      "\n",
      "\n",
      "Tema 2:\n",
      "['áridos', 'agricolas', 'trasnporte', 'arriendo', 'nacional', 'pasajeros', 'transportes', 'transporte', 'carretera', 'carga']\n",
      "\n",
      "\n",
      "Tema 3:\n",
      "['inversiones', 'muebles', 'compra', 'inmuebles', 'explotación', 'prestación', 'distribución', 'exportación', 'importación', 'comercialización']\n",
      "\n",
      "\n",
      "Tema 4:\n",
      "['experimental', 'publicidad', 'jurídicas', 'asesoramiento', 'empresarial', 'organizaciones', 'empresas', 'prestadas', 'profesionales', 'empresariales']\n",
      "\n",
      "\n",
      "Tema 5:\n",
      "['industrial', 'estructuras', 'edificios', 'ingenieria', 'mantencion', 'civiles', 'contratista', 'construccion', 'menores', 'obras']\n",
      "\n",
      "\n",
      "Tema 6:\n",
      "['maquinaria', 'motocicletas', 'venta', 'accesorios', 'piezas', 'partes', 'mantenimiento', 'reparación', 'vehículos', 'automotores']\n",
      "\n",
      "\n",
      "Tema 7:\n",
      "['accesorios', 'verduras', 'frutas', 'articulos', 'artículos', 'menor', 'compra', 'mayor', 'productos', 'venta']\n",
      "\n",
      "\n",
      "Tema 8:\n",
      "['alquiler', 'prestados', 'maquinaria', 'conexos', 'impresión', 'equipo', 'proyectos', 'arquitectura', 'técnicas', 'ingeniería']\n",
      "\n",
      "\n",
      "Tema 9:\n",
      "['empresarial', 'asesoramiento', 'equipo', 'alquiler', 'cambio', 'contrata', 'retribución', 'arrendados', 'realizadas', 'inmobiliarias']\n",
      "\n",
      "\n",
      "Tema 10:\n",
      "['producción', 'tabacos', 'productos', 'cantinas', 'restaurantes', 'bares', 'alimenticios', 'bebidas', 'alimentos', 'elaboración']\n",
      "\n",
      "\n",
      "Tema 11:\n",
      "['maquinaria', 'reparación', 'uso', 'productos', 'vestir', 'textiles', 'fab', 'prendas', 'muebles', 'fabricación']\n",
      "\n",
      "\n",
      "Tema 12:\n",
      "['medicos', 'experimental', 'investigaciones', 'esparcimiento', 'deportivas', 'médicos', 'sociales', 'empresariales', 'humana', 'salud']\n",
      "\n",
      "\n",
      "Tema 13:\n",
      "['agencias', 'viaje', 'auxiliares', 'maquinaria', 'equipo', 'alquiler', 'pasajeros', 'vía', 'terrestre', 'transporte']\n",
      "\n",
      "\n",
      "Tema 14:\n",
      "['tv', 'cinematografía', 'radio', 'entretenimiento', 'jurídicas', 'publicidad', 'asesoramiento', 'empresarial', 'telecomunicaciones', 'informáticos']\n",
      "\n",
      "\n"
     ]
    }
   ],
   "source": [
    "# Observamos las 10 palabras mas utilizadas por tipos de objeto\n",
    "for i, tema in enumerate(nmf_model.components_):\n",
    "    print(f\"Tema {i}:\")\n",
    "    print([tfidf.get_feature_names()[index] for index in tema.argsort()[-10:]])\n",
    "    print(\"\\n\")"
   ]
  },
  {
   "cell_type": "code",
   "execution_count": 10,
   "metadata": {},
   "outputs": [],
   "source": [
    "# Asociamos los tipos de objetos a cada entrada\n",
    "import pandas as pd"
   ]
  },
  {
   "cell_type": "code",
   "execution_count": 11,
   "metadata": {},
   "outputs": [],
   "source": [
    "df = pd.DataFrame()"
   ]
  },
  {
   "cell_type": "code",
   "execution_count": 12,
   "metadata": {},
   "outputs": [],
   "source": [
    "temas_resultantes = nmf_model.transform(mtx)"
   ]
  },
  {
   "cell_type": "code",
   "execution_count": 13,
   "metadata": {},
   "outputs": [],
   "source": [
    "df['Texto'] = lines\n",
    "df['Grupo'] = temas_resultantes.argmax(axis=1)"
   ]
  },
  {
   "cell_type": "code",
   "execution_count": 14,
   "metadata": {},
   "outputs": [
    {
     "data": {
      "text/html": [
       "<div>\n",
       "<style scoped>\n",
       "    .dataframe tbody tr th:only-of-type {\n",
       "        vertical-align: middle;\n",
       "    }\n",
       "\n",
       "    .dataframe tbody tr th {\n",
       "        vertical-align: top;\n",
       "    }\n",
       "\n",
       "    .dataframe thead th {\n",
       "        text-align: right;\n",
       "    }\n",
       "</style>\n",
       "<table border=\"1\" class=\"dataframe\">\n",
       "  <thead>\n",
       "    <tr style=\"text-align: right;\">\n",
       "      <th></th>\n",
       "      <th>Texto</th>\n",
       "      <th>Grupo</th>\n",
       "    </tr>\n",
       "  </thead>\n",
       "  <tbody>\n",
       "    <tr>\n",
       "      <th>0</th>\n",
       "      <td>CONSTRUCCIÓN, ALQUILER DE OTROS TIPOS DE MAQUI...</td>\n",
       "      <td>9</td>\n",
       "    </tr>\n",
       "    <tr>\n",
       "      <th>1</th>\n",
       "      <td>el servicio de turismo por todo el territorio ...</td>\n",
       "      <td>3</td>\n",
       "    </tr>\n",
       "    <tr>\n",
       "      <th>2</th>\n",
       "      <td>SALON DE BELLEZA.</td>\n",
       "      <td>7</td>\n",
       "    </tr>\n",
       "    <tr>\n",
       "      <th>3</th>\n",
       "      <td>CURSOS ONLINE DE MUSICA, COCINA, CLASES DE MUS...</td>\n",
       "      <td>3</td>\n",
       "    </tr>\n",
       "    <tr>\n",
       "      <th>4</th>\n",
       "      <td>el ejercicio de la actividad comercial,importa...</td>\n",
       "      <td>3</td>\n",
       "    </tr>\n",
       "  </tbody>\n",
       "</table>\n",
       "</div>"
      ],
      "text/plain": [
       "                                               Texto  Grupo\n",
       "0  CONSTRUCCIÓN, ALQUILER DE OTROS TIPOS DE MAQUI...      9\n",
       "1  el servicio de turismo por todo el territorio ...      3\n",
       "2                                  SALON DE BELLEZA.      7\n",
       "3  CURSOS ONLINE DE MUSICA, COCINA, CLASES DE MUS...      3\n",
       "4  el ejercicio de la actividad comercial,importa...      3"
      ]
     },
     "execution_count": 14,
     "metadata": {},
     "output_type": "execute_result"
    }
   ],
   "source": [
    "df.head()"
   ]
  },
  {
   "cell_type": "code",
   "execution_count": 15,
   "metadata": {},
   "outputs": [],
   "source": [
    "rep = {0:'Venta de Alimentos',1:'Servicios de Construccion',2:'Servicios de Transporte',3:'Inversiones, compras y ventas',\n",
    "       4:'Asesoramiento Empresarial',5:'Ingenieria y Construccion',6:'Servicio Automotriz',7:'Venta de Articulos/Alimentos',\n",
    "       8:'Arriendo de Equipos, Arquitectura e Ingenieria',9:'Asesoramiento, Inversiones y Arrendamiento',10:'Bar y Restaurants',\n",
    "       11:'Fabricacion de textiles y muebles',12:'Servicios Medicos',13:'Servicios de Transporte',\n",
    "       14:'Servicios Informaticos y de Telecomunicaciones'}"
   ]
  },
  {
   "cell_type": "code",
   "execution_count": 16,
   "metadata": {},
   "outputs": [],
   "source": [
    "df['Nombre del Grupo'] = df['Grupo'].map(rep)"
   ]
  },
  {
   "cell_type": "code",
   "execution_count": 17,
   "metadata": {},
   "outputs": [
    {
     "data": {
      "text/html": [
       "<div>\n",
       "<style scoped>\n",
       "    .dataframe tbody tr th:only-of-type {\n",
       "        vertical-align: middle;\n",
       "    }\n",
       "\n",
       "    .dataframe tbody tr th {\n",
       "        vertical-align: top;\n",
       "    }\n",
       "\n",
       "    .dataframe thead th {\n",
       "        text-align: right;\n",
       "    }\n",
       "</style>\n",
       "<table border=\"1\" class=\"dataframe\">\n",
       "  <thead>\n",
       "    <tr style=\"text-align: right;\">\n",
       "      <th></th>\n",
       "      <th>Texto</th>\n",
       "      <th>Grupo</th>\n",
       "      <th>Nombre del Grupo</th>\n",
       "    </tr>\n",
       "  </thead>\n",
       "  <tbody>\n",
       "    <tr>\n",
       "      <th>0</th>\n",
       "      <td>CONSTRUCCIÓN, ALQUILER DE OTROS TIPOS DE MAQUI...</td>\n",
       "      <td>9</td>\n",
       "      <td>Asesoramiento, Inversiones y Arrendamiento</td>\n",
       "    </tr>\n",
       "    <tr>\n",
       "      <th>1</th>\n",
       "      <td>el servicio de turismo por todo el territorio ...</td>\n",
       "      <td>3</td>\n",
       "      <td>Inversiones, compras y ventas</td>\n",
       "    </tr>\n",
       "    <tr>\n",
       "      <th>2</th>\n",
       "      <td>SALON DE BELLEZA.</td>\n",
       "      <td>7</td>\n",
       "      <td>Venta de Articulos/Alimentos</td>\n",
       "    </tr>\n",
       "    <tr>\n",
       "      <th>3</th>\n",
       "      <td>CURSOS ONLINE DE MUSICA, COCINA, CLASES DE MUS...</td>\n",
       "      <td>3</td>\n",
       "      <td>Inversiones, compras y ventas</td>\n",
       "    </tr>\n",
       "    <tr>\n",
       "      <th>4</th>\n",
       "      <td>el ejercicio de la actividad comercial,importa...</td>\n",
       "      <td>3</td>\n",
       "      <td>Inversiones, compras y ventas</td>\n",
       "    </tr>\n",
       "  </tbody>\n",
       "</table>\n",
       "</div>"
      ],
      "text/plain": [
       "                                               Texto  Grupo  \\\n",
       "0  CONSTRUCCIÓN, ALQUILER DE OTROS TIPOS DE MAQUI...      9   \n",
       "1  el servicio de turismo por todo el territorio ...      3   \n",
       "2                                  SALON DE BELLEZA.      7   \n",
       "3  CURSOS ONLINE DE MUSICA, COCINA, CLASES DE MUS...      3   \n",
       "4  el ejercicio de la actividad comercial,importa...      3   \n",
       "\n",
       "                             Nombre del Grupo  \n",
       "0  Asesoramiento, Inversiones y Arrendamiento  \n",
       "1               Inversiones, compras y ventas  \n",
       "2                Venta de Articulos/Alimentos  \n",
       "3               Inversiones, compras y ventas  \n",
       "4               Inversiones, compras y ventas  "
      ]
     },
     "execution_count": 17,
     "metadata": {},
     "output_type": "execute_result"
    }
   ],
   "source": [
    "df.head()"
   ]
  },
  {
   "cell_type": "code",
   "execution_count": 18,
   "metadata": {},
   "outputs": [],
   "source": [
    "# De manera similar al metodo LDA, podemos ver los coeficientes que definen a que grupo pertence algun objeto.\n",
    "# Elegimos nuevamente el elemento 1759\n",
    "import seaborn as sns\n",
    "import matplotlib.pyplot as plt"
   ]
  },
  {
   "cell_type": "code",
   "execution_count": 19,
   "metadata": {},
   "outputs": [
    {
     "data": {
      "image/png": "[encoded data removed]",
      "text/plain": [
       "<Figure size 792x432 with 1 Axes>"
      ]
     },
     "metadata": {
      "needs_background": "light"
     },
     "output_type": "display_data"
    }
   ],
   "source": [
    "plt.figure(figsize=(11,6))\n",
    "plt.xticks(range(0,15),range(0,15))\n",
    "plt.bar(range(0,15),temas_resultantes[1759],color=\"#3366cc\")\n",
    "plt.title(\"Coeficientes para el Objeto 1759\")\n",
    "plt.xlabel(\"Grupo\")\n",
    "plt.ylabel(\"Coeficiente\")\n",
    "plt.show()"
   ]
  },
  {
   "cell_type": "code",
   "execution_count": 20,
   "metadata": {},
   "outputs": [
    {
     "name": "stdout",
     "output_type": "stream",
     "text": [
      "Grupo mas probable: Bar y Restaurants\n",
      "Segundo grupo probable: Fabricacion de textiles y muebles\n",
      "COMERCIALIZACION Y FABRICACIÓN DE MUEBLES, ELABORACIÓN DE OTROS PRODUCTOS ALIMENTICIOS, COMERCIALIZACION DE PRODUCTOS ALIMENTICIOS, EXPLOTACION DE NEGOCIOS DE CAFETERIAS Y RESTAURANTES.\n"
     ]
    }
   ],
   "source": [
    "# Vemos que el coeficiente mas relevante es el 10, seguido por el 11. Podemos observar su clasificacion\n",
    "print('Grupo mas probable: '+rep[10])\n",
    "print('Segundo grupo probable: '+rep[11])\n",
    "print(df['Texto'].iloc[1759])"
   ]
  },
  {
   "cell_type": "code",
   "execution_count": 21,
   "metadata": {},
   "outputs": [
    {
     "data": {
      "image/png": "[encoded data removed]",
      "text/plain": [
       "<Figure size 720x432 with 1 Axes>"
      ]
     },
     "metadata": {
      "needs_background": "light"
     },
     "output_type": "display_data"
    }
   ],
   "source": [
    "# Por ultimo, observamos el grupo mas frecuente\n",
    "plt.figure(figsize=(10,6))\n",
    "sns.countplot(x='Grupo',data=df,color=\"#3366cc\")\n",
    "plt.title(\"Frecuencia de Cada Tema\")\n",
    "plt.show()"
   ]
  },
  {
   "cell_type": "code",
   "execution_count": 22,
   "metadata": {},
   "outputs": [
    {
     "name": "stdout",
     "output_type": "stream",
     "text": [
      "Inversiones, compras y ventas\n"
     ]
    }
   ],
   "source": [
    "# En este caso, lo mas frecuente fue dado por el grupo 3\n",
    "print(rep[3])"
   ]
  },
  {
   "cell_type": "code",
   "execution_count": null,
   "metadata": {},
   "outputs": [],
   "source": []
  }
 ],
 "metadata": {
  "kernelspec": {
   "display_name": "Python 3",
   "language": "python",
   "name": "python3"
  },
  "language_info": {
   "codemirror_mode": {
    "name": "ipython",
    "version": 3
   },
   "file_extension": ".py",
   "mimetype": "text/x-python",
   "name": "python",
   "nbconvert_exporter": "python",
   "pygments_lexer": "ipython3",
   "version": "3.7.0"
  }
 },
 "nbformat": 4,
 "nbformat_minor": 2
}
