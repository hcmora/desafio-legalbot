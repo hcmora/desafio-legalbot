{
 "cells": [
  {
   "cell_type": "code",
   "execution_count": 1,
   "metadata": {},
   "outputs": [],
   "source": [
    "# Ahora se probara agrupar mediante LDA. Lo que se busca realizar aqui es asignar una distribucion de \n",
    "# probabilidad a cada documento, en donde esta distribucion representara la probabilidad de pertenecer\n",
    "# a un grupo u otro. Asimismo, los grupos tendran una distribucion de probabilidad para las palabras \n",
    "# que perteneceran a este"
   ]
  },
  {
   "cell_type": "code",
   "execution_count": 2,
   "metadata": {},
   "outputs": [],
   "source": [
    "with open(\"objetos.txt\") as txt:\n",
    "    lines = txt.read().split(\"\\n\\n\")"
   ]
  },
  {
   "cell_type": "code",
   "execution_count": 3,
   "metadata": {},
   "outputs": [],
   "source": [
    "from sklearn.feature_extraction.text import CountVectorizer"
   ]
  },
  {
   "cell_type": "code",
   "execution_count": 4,
   "metadata": {},
   "outputs": [],
   "source": [
    "# Para este metodo, necesitamos crear la matriz de frecuencia de cada palabra.\n",
    "# Aplicamos las mismas restricciones para incluir palabras que en el caso anterior, pero ademas sumamos otras que, de lo que\n",
    "# fue observado, no aportan a definir el objeto de la sociedad. En particular, definimos el atributo stop_words con conectores\n",
    "# que no aportan informacion relevante.\n",
    "\n",
    "stop_w = ['de','la','a','el','que','en','los','las','con','al','sus','del','por','como','para','toda','todo']\n",
    "cv = CountVectorizer(max_df=0.9,min_df=2,stop_words=stop_w)"
   ]
  },
  {
   "cell_type": "code",
   "execution_count": 5,
   "metadata": {},
   "outputs": [],
   "source": [
    "# Creamos la matriz sparse\n",
    "mtx = cv.fit_transform(lines)"
   ]
  },
  {
   "cell_type": "code",
   "execution_count": 6,
   "metadata": {},
   "outputs": [],
   "source": [
    "# Importamos lo necesario para realizar el metodo LDA (Latent Dirichlent Allocation)\n",
    "from sklearn.decomposition import LatentDirichletAllocation"
   ]
  },
  {
   "cell_type": "code",
   "execution_count": 7,
   "metadata": {},
   "outputs": [],
   "source": [
    "k = 20"
   ]
  },
  {
   "cell_type": "code",
   "execution_count": 8,
   "metadata": {},
   "outputs": [],
   "source": [
    "LDA = LatentDirichletAllocation(n_components=k,random_state=7)"
   ]
  },
  {
   "cell_type": "code",
   "execution_count": 9,
   "metadata": {},
   "outputs": [
    {
     "data": {
      "text/plain": [
       "LatentDirichletAllocation(batch_size=128, doc_topic_prior=None,\n",
       "             evaluate_every=-1, learning_decay=0.7,\n",
       "             learning_method='batch', learning_offset=10.0,\n",
       "             max_doc_update_iter=100, max_iter=10, mean_change_tol=0.001,\n",
       "             n_components=20, n_jobs=None, n_topics=None, perp_tol=0.1,\n",
       "             random_state=7, topic_word_prior=None,\n",
       "             total_samples=1000000.0, verbose=0)"
      ]
     },
     "execution_count": 9,
     "metadata": {},
     "output_type": "execute_result"
    }
   ],
   "source": [
    "LDA.fit(mtx)"
   ]
  },
  {
   "cell_type": "code",
   "execution_count": 10,
   "metadata": {},
   "outputs": [
    {
     "name": "stdout",
     "output_type": "stream",
     "text": [
      "Tema 0:\n",
      "['asesoría', 'cualquier', 'empresas', 'médicos', 'profesionales', 'asesorías', 'capacitación', 'salud', 'prestación', 'servicios']\n",
      "\n",
      "\n",
      "Tema 1:\n",
      "['comercialización', 'importacion', 'agricolas', 'mayor', 'verduras', 'frutas', 'comercializacion', 'compra', 'venta', 'productos']\n",
      "\n",
      "\n",
      "Tema 2:\n",
      "['civiles', 'servicios', 'propia', 'cuenta', 'ejecución', 'estructuras', 'industrial', 'tipo', 'construcción', 'obras']\n",
      "\n",
      "\n",
      "Tema 3:\n",
      "['otros', 'informática', 'informáticos', 'producción', 'pasajeros', 'actividades', 'carretera', 'carga', 'transporte', 'servicios']\n",
      "\n",
      "\n",
      "Tema 4:\n",
      "['automotriz', 'producción', 'servicios', 'cualquier', 'vehiculos', 'venta', 'eventos', 'vehículos', 'general', 'turismo']\n",
      "\n",
      "\n",
      "Tema 5:\n",
      "['bicicleta', 'tipo', 'comercialización', 'artículos', 'actividad', 'general', 'equipos', 'accesorios', 'productos', 'belleza']\n",
      "\n",
      "\n",
      "Tema 6:\n",
      "['alquiler', 'automotores', 'tipos', 'maquinaria', 'vehículos', 'venta', 'equipo', 'transporte', 'otros', 'reparación']\n",
      "\n",
      "\n",
      "Tema 7:\n",
      "['industriales', 'articulos', 'forestales', 'integrales', 'fabricacion', 'seguridad', 'electronicos', 'tipo', 'servicios', 'comercializadora']\n",
      "\n",
      "\n",
      "Tema 8:\n",
      "['general', 'distribución', 'explotación', 'venta', 'comercialización', 'actividades', 'bienes', 'clase', 'cualquier', 'tipo']\n",
      "\n",
      "\n",
      "Tema 9:\n",
      "['comercialización', 'insumos', 'artículos', 'distribución', 'equipos', 'exportación', 'arriendo', 'importación', 'compra', 'venta']\n",
      "\n",
      "\n",
      "Tema 10:\n",
      "['podrá', 'clase', 'general', 'construcción', 'sociedad', 'tipo', 'proyectos', 'cualquier', 'objeto', 'servicios']\n",
      "\n",
      "\n",
      "Tema 11:\n",
      "['arrendamiento', 'importacion', 'pasajeros', 'ya', 'clase', 'carga', 'exportación', 'tipo', 'vehículos', 'transporte']\n",
      "\n",
      "\n",
      "Tema 12:\n",
      "['comidas', 'producción', 'restaurantes', 'similares', 'alimentos', 'establecimientos', 'bebidas', 'comida', 'servicios', 'eventos']\n",
      "\n",
      "\n",
      "Tema 13:\n",
      "['explotación', 'ajena', 'sociedades', 'tipo', 'muebles', 'cuenta', 'propia', 'cualquier', 'clase', 'bienes']\n",
      "\n",
      "\n",
      "Tema 14:\n",
      "['esparcimiento', 'deportivas', 'desarrollo', 'construcción', 'técnicas', 'arquitectura', 'ingeniería', 'servicios', 'otras', 'actividades']\n",
      "\n",
      "\n",
      "Tema 15:\n",
      "['materia', 'propiedades', 'asesoría', 'instalación', 'proyectos', 'servicios', 'general', 'construcción', 'gestión', 'servicio']\n",
      "\n",
      "\n",
      "Tema 16:\n",
      "['materiales', 'servicios', 'civiles', 'mantencion', 'edificios', 'contratista', 'construccion', 'menores', 'construcción', 'obras']\n",
      "\n",
      "\n",
      "Tema 17:\n",
      "['prestadas', 'realizadas', 'servicios', 'inmobiliarias', 'empresas', 'otras', 'profesionales', 'empresariales', 'act', 'actividades']\n",
      "\n",
      "\n",
      "Tema 18:\n",
      "['alimentos', 'especializados', 'mayor', 'no', 'almacenes', 'productos', 'comercio', 'otros', 'venta', 'menor']\n",
      "\n",
      "\n",
      "Tema 19:\n",
      "['textiles', 'mayor', 'vestir', 'accesorios', 'prendas', 'productos', 'menor', 'fabricación', 'artículos', 'venta']\n",
      "\n",
      "\n"
     ]
    }
   ],
   "source": [
    "# Observemos ahora las 10 palabras con mayor probabilidad de aparecer en cada grupo\n",
    "for i, tema in enumerate(LDA.components_):\n",
    "    print(f\"Tema {i}:\")\n",
    "    print([cv.get_feature_names()[index] for index in tema.argsort()[-10:]])\n",
    "    print(\"\\n\")"
   ]
  },
  {
   "cell_type": "code",
   "execution_count": 11,
   "metadata": {},
   "outputs": [],
   "source": [
    "# Procedemos con asignar los temas a cada objeto de sociedades\n",
    "temas_resultantes = LDA.transform(mtx)"
   ]
  },
  {
   "cell_type": "code",
   "execution_count": 12,
   "metadata": {},
   "outputs": [],
   "source": [
    "import pandas as pd"
   ]
  },
  {
   "cell_type": "code",
   "execution_count": 13,
   "metadata": {},
   "outputs": [],
   "source": [
    "df = pd.DataFrame()"
   ]
  },
  {
   "cell_type": "code",
   "execution_count": 14,
   "metadata": {},
   "outputs": [],
   "source": [
    "df['Texto'] = lines"
   ]
  },
  {
   "cell_type": "code",
   "execution_count": 15,
   "metadata": {},
   "outputs": [],
   "source": [
    "df['Grupo'] = temas_resultantes.argmax(axis=1)"
   ]
  },
  {
   "cell_type": "code",
   "execution_count": 16,
   "metadata": {},
   "outputs": [
    {
     "data": {
      "text/html": [
       "<div>\n",
       "<style scoped>\n",
       "    .dataframe tbody tr th:only-of-type {\n",
       "        vertical-align: middle;\n",
       "    }\n",
       "\n",
       "    .dataframe tbody tr th {\n",
       "        vertical-align: top;\n",
       "    }\n",
       "\n",
       "    .dataframe thead th {\n",
       "        text-align: right;\n",
       "    }\n",
       "</style>\n",
       "<table border=\"1\" class=\"dataframe\">\n",
       "  <thead>\n",
       "    <tr style=\"text-align: right;\">\n",
       "      <th></th>\n",
       "      <th>Texto</th>\n",
       "      <th>Grupo</th>\n",
       "    </tr>\n",
       "  </thead>\n",
       "  <tbody>\n",
       "    <tr>\n",
       "      <th>0</th>\n",
       "      <td>CONSTRUCCIÓN, ALQUILER DE OTROS TIPOS DE MAQUI...</td>\n",
       "      <td>17</td>\n",
       "    </tr>\n",
       "    <tr>\n",
       "      <th>1</th>\n",
       "      <td>el servicio de turismo por todo el territorio ...</td>\n",
       "      <td>11</td>\n",
       "    </tr>\n",
       "    <tr>\n",
       "      <th>2</th>\n",
       "      <td>SALON DE BELLEZA.</td>\n",
       "      <td>5</td>\n",
       "    </tr>\n",
       "    <tr>\n",
       "      <th>3</th>\n",
       "      <td>CURSOS ONLINE DE MUSICA, COCINA, CLASES DE MUS...</td>\n",
       "      <td>12</td>\n",
       "    </tr>\n",
       "    <tr>\n",
       "      <th>4</th>\n",
       "      <td>el ejercicio de la actividad comercial,importa...</td>\n",
       "      <td>13</td>\n",
       "    </tr>\n",
       "  </tbody>\n",
       "</table>\n",
       "</div>"
      ],
      "text/plain": [
       "                                               Texto  Grupo\n",
       "0  CONSTRUCCIÓN, ALQUILER DE OTROS TIPOS DE MAQUI...     17\n",
       "1  el servicio de turismo por todo el territorio ...     11\n",
       "2                                  SALON DE BELLEZA.      5\n",
       "3  CURSOS ONLINE DE MUSICA, COCINA, CLASES DE MUS...     12\n",
       "4  el ejercicio de la actividad comercial,importa...     13"
      ]
     },
     "execution_count": 16,
     "metadata": {},
     "output_type": "execute_result"
    }
   ],
   "source": [
    "df.head()"
   ]
  },
  {
   "cell_type": "code",
   "execution_count": 17,
   "metadata": {},
   "outputs": [],
   "source": [
    "rep = {0:'Servicios de Salud', 1:'Comercializacion Agricola', 2:'Servicios de Construccion', 3:'Servicios Informaticos', \n",
    "       4:'Servicio Automotriz', 5:'Comercializacion de Articulos', 6:'Arriendo de Equipos de Transporte', \n",
    "       7:'Fabricacion y venta de Articulos', 8:'Servicios Generales', 9:'Venta de Insumos', 10:'Servicios de Construccion',\n",
    "       11:'Servicios de Transporte', 12:'Servicios de Alimentos', 13:'Servicios Generales', 14:'Arquitectura, Ingenieria y Construccion', \n",
    "       15:'Servicios de Construccion', 16:'Servicios de Construccion', 17:'Servicios Inmobiliarios', 18:'Venta de Alimentos', \n",
    "       19:'Fabricacion y venta de Textiles'}"
   ]
  },
  {
   "cell_type": "code",
   "execution_count": 18,
   "metadata": {},
   "outputs": [],
   "source": [
    "df['Nombre del Grupo'] = df['Grupo'].map(rep)"
   ]
  },
  {
   "cell_type": "code",
   "execution_count": 19,
   "metadata": {},
   "outputs": [
    {
     "data": {
      "text/html": [
       "<div>\n",
       "<style scoped>\n",
       "    .dataframe tbody tr th:only-of-type {\n",
       "        vertical-align: middle;\n",
       "    }\n",
       "\n",
       "    .dataframe tbody tr th {\n",
       "        vertical-align: top;\n",
       "    }\n",
       "\n",
       "    .dataframe thead th {\n",
       "        text-align: right;\n",
       "    }\n",
       "</style>\n",
       "<table border=\"1\" class=\"dataframe\">\n",
       "  <thead>\n",
       "    <tr style=\"text-align: right;\">\n",
       "      <th></th>\n",
       "      <th>Texto</th>\n",
       "      <th>Grupo</th>\n",
       "      <th>Nombre del Grupo</th>\n",
       "    </tr>\n",
       "  </thead>\n",
       "  <tbody>\n",
       "    <tr>\n",
       "      <th>0</th>\n",
       "      <td>CONSTRUCCIÓN, ALQUILER DE OTROS TIPOS DE MAQUI...</td>\n",
       "      <td>17</td>\n",
       "      <td>Servicios Inmobiliarios</td>\n",
       "    </tr>\n",
       "    <tr>\n",
       "      <th>1</th>\n",
       "      <td>el servicio de turismo por todo el territorio ...</td>\n",
       "      <td>11</td>\n",
       "      <td>Servicios de Transporte</td>\n",
       "    </tr>\n",
       "    <tr>\n",
       "      <th>2</th>\n",
       "      <td>SALON DE BELLEZA.</td>\n",
       "      <td>5</td>\n",
       "      <td>Comercializacion de Articulos</td>\n",
       "    </tr>\n",
       "    <tr>\n",
       "      <th>3</th>\n",
       "      <td>CURSOS ONLINE DE MUSICA, COCINA, CLASES DE MUS...</td>\n",
       "      <td>12</td>\n",
       "      <td>Servicios de Alimentos</td>\n",
       "    </tr>\n",
       "    <tr>\n",
       "      <th>4</th>\n",
       "      <td>el ejercicio de la actividad comercial,importa...</td>\n",
       "      <td>13</td>\n",
       "      <td>Servicios Generales</td>\n",
       "    </tr>\n",
       "  </tbody>\n",
       "</table>\n",
       "</div>"
      ],
      "text/plain": [
       "                                               Texto  Grupo  \\\n",
       "0  CONSTRUCCIÓN, ALQUILER DE OTROS TIPOS DE MAQUI...     17   \n",
       "1  el servicio de turismo por todo el territorio ...     11   \n",
       "2                                  SALON DE BELLEZA.      5   \n",
       "3  CURSOS ONLINE DE MUSICA, COCINA, CLASES DE MUS...     12   \n",
       "4  el ejercicio de la actividad comercial,importa...     13   \n",
       "\n",
       "                Nombre del Grupo  \n",
       "0        Servicios Inmobiliarios  \n",
       "1        Servicios de Transporte  \n",
       "2  Comercializacion de Articulos  \n",
       "3         Servicios de Alimentos  \n",
       "4            Servicios Generales  "
      ]
     },
     "execution_count": 19,
     "metadata": {},
     "output_type": "execute_result"
    }
   ],
   "source": [
    "df.head()"
   ]
  },
  {
   "cell_type": "code",
   "execution_count": 20,
   "metadata": {},
   "outputs": [
    {
     "data": {
      "text/plain": [
       "(3503, 20)"
      ]
     },
     "execution_count": 20,
     "metadata": {},
     "output_type": "execute_result"
    }
   ],
   "source": [
    "temas_resultantes.shape"
   ]
  },
  {
   "cell_type": "code",
   "execution_count": 21,
   "metadata": {},
   "outputs": [],
   "source": [
    "# Podemos graficar para algun objeto de sociedad su probabilidad de pertenecer a alguno de los temas:"
   ]
  },
  {
   "cell_type": "code",
   "execution_count": 22,
   "metadata": {},
   "outputs": [],
   "source": [
    "import seaborn as sns\n",
    "import matplotlib.pyplot as plt"
   ]
  },
  {
   "cell_type": "code",
   "execution_count": 23,
   "metadata": {},
   "outputs": [
    {
     "data": {
      "image/png": "[encoded data removed]",
      "text/plain": [
       "<Figure size 792x432 with 1 Axes>"
      ]
     },
     "metadata": {
      "needs_background": "light"
     },
     "output_type": "display_data"
    }
   ],
   "source": [
    "# Elegimos a modo aleatorio la entrada 1759\n",
    "plt.figure(figsize=(11,6))\n",
    "plt.xticks(range(0,20),range(0,20))\n",
    "plt.bar(range(0,20),temas_resultantes[1759],color=\"#3366cc\")\n",
    "plt.title(\"Distribucion de Probabilidad para el Objeto 1759\")\n",
    "plt.xlabel(\"Grupo\")\n",
    "plt.ylabel(\"Probabilidad\")\n",
    "plt.show()"
   ]
  },
  {
   "cell_type": "code",
   "execution_count": 24,
   "metadata": {},
   "outputs": [
    {
     "name": "stdout",
     "output_type": "stream",
     "text": [
      "Grupo mas probable: Venta de Alimentos\n",
      "Segundo grupo probable: Comercializacion Agricola\n",
      "COMERCIALIZACION Y FABRICACIÓN DE MUEBLES, ELABORACIÓN DE OTROS PRODUCTOS ALIMENTICIOS, COMERCIALIZACION DE PRODUCTOS ALIMENTICIOS, EXPLOTACION DE NEGOCIOS DE CAFETERIAS Y RESTAURANTES.\n"
     ]
    }
   ],
   "source": [
    "# Vemos que tiene mayor probabilidad de pertenecer al grupo 18, y como segunda opcion al grupo 1:\n",
    "print('Grupo mas probable: '+rep[18])\n",
    "print('Segundo grupo probable: '+rep[1])\n",
    "print(df['Texto'].iloc[1759])"
   ]
  },
  {
   "cell_type": "code",
   "execution_count": 25,
   "metadata": {},
   "outputs": [],
   "source": [
    "# Observemos cual de todos los grupos es el que se repite con mayor frecuencia"
   ]
  },
  {
   "cell_type": "code",
   "execution_count": 26,
   "metadata": {},
   "outputs": [
    {
     "data": {
      "image/png": "[encoded data removed]",
      "text/plain": [
       "<Figure size 720x432 with 1 Axes>"
      ]
     },
     "metadata": {
      "needs_background": "light"
     },
     "output_type": "display_data"
    }
   ],
   "source": [
    "plt.figure(figsize=(10,6))\n",
    "sns.countplot(x='Grupo',data=df,color=\"#3366cc\")\n",
    "plt.title(\"Frecuencia de Cada Tema\")\n",
    "plt.show()"
   ]
  },
  {
   "cell_type": "code",
   "execution_count": 27,
   "metadata": {},
   "outputs": [
    {
     "name": "stdout",
     "output_type": "stream",
     "text": [
      "Venta de Alimentos\n"
     ]
    }
   ],
   "source": [
    "# Observamos que el grupo 18 es el que aparece mas veces\n",
    "print(rep[18])"
   ]
  },
  {
   "cell_type": "code",
   "execution_count": 28,
   "metadata": {},
   "outputs": [
    {
     "data": {
      "text/plain": [
       "16"
      ]
     },
     "execution_count": 28,
     "metadata": {},
     "output_type": "execute_result"
    }
   ],
   "source": [
    "# Para este caso, se definieron 16 grupos unicos. En el siguiente metodo, trataremos de identificar 15 grupos \n",
    "# de otra forma.\n",
    "len(df['Nombre del Grupo'].unique())"
   ]
  },
  {
   "cell_type": "code",
   "execution_count": null,
   "metadata": {},
   "outputs": [],
   "source": []
  }
 ],
 "metadata": {
  "kernelspec": {
   "display_name": "Python 3",
   "language": "python",
   "name": "python3"
  },
  "language_info": {
   "codemirror_mode": {
    "name": "ipython",
    "version": 3
   },
   "file_extension": ".py",
   "mimetype": "text/x-python",
   "name": "python",
   "nbconvert_exporter": "python",
   "pygments_lexer": "ipython3",
   "version": "3.7.0"
  }
 },
 "nbformat": 4,
 "nbformat_minor": 2
}
