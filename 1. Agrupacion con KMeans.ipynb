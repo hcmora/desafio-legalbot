{
 "cells": [
  {
   "cell_type": "code",
   "execution_count": 1,
   "metadata": {},
   "outputs": [],
   "source": [
    "# El primer analisis se realizara utilizando KMeans. Este metodo buscara agrupar minimizando la distancia que exista\n",
    "# entre el centro de cada grupo, con sus respectivos miembros."
   ]
  },
  {
   "cell_type": "code",
   "execution_count": 2,
   "metadata": {},
   "outputs": [],
   "source": [
    "# Importamos los datos\n",
    "with open(\"objetos.txt\") as txt:\n",
    "    lines = txt.read().split('\\n\\n')"
   ]
  },
  {
   "cell_type": "code",
   "execution_count": 3,
   "metadata": {},
   "outputs": [],
   "source": [
    "# Verificamos que no hayan lineas vacias\n",
    "for i in lines:\n",
    "    if i.isspace():\n",
    "        print('!')"
   ]
  },
  {
   "cell_type": "code",
   "execution_count": 4,
   "metadata": {},
   "outputs": [],
   "source": [
    "from sklearn.feature_extraction.text import TfidfVectorizer \n",
    "from sklearn.cluster import KMeans\n",
    "import time"
   ]
  },
  {
   "cell_type": "code",
   "execution_count": 5,
   "metadata": {},
   "outputs": [],
   "source": [
    "# Creamos una instancia de TfidfVectorizer, que permitira calcular la frecuencia relativa de cada palabra con respecto a\n",
    "# el total de entradas. El atributo max_df = 0.9 se agrega para no incluir palabras que se repitan en el 90% de las entradas\n",
    "# (como podria ser el caso de conectores como 'a' o 'de'). min_df = 2 se agrega para incluir palabras que se repitan al menos\n",
    "# un minimo de dos veces.\n",
    "# Una alternativa a max_df seria incluir un listado de palabras en stop_words, sin embargo, dejaremos esto en blanco.\n",
    "vectorizer = TfidfVectorizer(max_df=0.9,min_df=2)"
   ]
  },
  {
   "cell_type": "code",
   "execution_count": 6,
   "metadata": {},
   "outputs": [],
   "source": [
    "# Realizamos la transformacion a una matriz tipo sparse\n",
    "X = vectorizer.fit_transform(lines)"
   ]
  },
  {
   "cell_type": "code",
   "execution_count": 7,
   "metadata": {},
   "outputs": [],
   "source": [
    "# Para tratar de obtener el mejor valor de k, trataremos de iterar para k=1:40 y observaremos si existe algun valor\n",
    "# de k en que se produzca un salto en el valor de SSE (sum squared error o la suma cuadrada de los errores)\n",
    "k = range(1,41)\n",
    "sse = []"
   ]
  },
  {
   "cell_type": "code",
   "execution_count": 8,
   "metadata": {},
   "outputs": [
    {
     "name": "stdout",
     "output_type": "stream",
     "text": [
      "1007.1794521808624\n"
     ]
    }
   ],
   "source": [
    "# IMPORTANTE: Demora por lo menos 15-20 min en ejecutarse, por la cantidad de iteraciones que debe realizar.\n",
    "# El codigo genera unicamente los datos para el grafico de SSE vs K, no es necesario ejecutarlo para el resto\n",
    "start = time.time()\n",
    "\n",
    "for i in k:\n",
    "    kmeans = KMeans(n_clusters=i, random_state=7)\n",
    "    kmeans.fit(X)\n",
    "    sse.append(kmeans.inertia_)\n",
    "\n",
    "end = time.time()\n",
    "print(end-start)"
   ]
  },
  {
   "cell_type": "code",
   "execution_count": 9,
   "metadata": {},
   "outputs": [],
   "source": [
    "import matplotlib.pyplot as plt"
   ]
  },
  {
   "cell_type": "code",
   "execution_count": 10,
   "metadata": {},
   "outputs": [
    {
     "data": {
      "image/png": "[encoded data removed]",
      "text/plain": [
       "<Figure size 720x432 with 1 Axes>"
      ]
     },
     "metadata": {
      "needs_background": "light"
     },
     "output_type": "display_data"
    }
   ],
   "source": [
    "plt.figure(figsize=(10,6))\n",
    "plt.plot(k,sse,color='blue',ls='--',marker='o',markerfacecolor='red',markersize=8)\n",
    "plt.title('SSE para cada K')\n",
    "plt.xlabel('K')\n",
    "plt.ylabel('SSE')\n",
    "plt.grid()\n",
    "plt.show()"
   ]
  },
  {
   "cell_type": "code",
   "execution_count": 11,
   "metadata": {},
   "outputs": [],
   "source": [
    "# En el gráfico no se observa un cambio pronunciado en el error al aumentar el valor de k, por lo que\n",
    "# no es tan simple utilizar el criterio del \"codo\".\n",
    "\n",
    "# Se probará con k = 30, donde se observa un aumento de error en vez de descenso"
   ]
  },
  {
   "cell_type": "code",
   "execution_count": 12,
   "metadata": {},
   "outputs": [
    {
     "data": {
      "text/plain": [
       "KMeans(algorithm='auto', copy_x=True, init='k-means++', max_iter=300,\n",
       "    n_clusters=30, n_init=10, n_jobs=None, precompute_distances='auto',\n",
       "    random_state=7, tol=0.0001, verbose=0)"
      ]
     },
     "execution_count": 12,
     "metadata": {},
     "output_type": "execute_result"
    }
   ],
   "source": [
    "# Se define k = 30, ademas de definir random_state=7 para efectos de replicar los resultados\n",
    "k_chosen = 30\n",
    "kmeans = KMeans(n_clusters=k_chosen,random_state=7)\n",
    "kmeans.fit(X)"
   ]
  },
  {
   "cell_type": "code",
   "execution_count": 13,
   "metadata": {},
   "outputs": [],
   "source": [
    "classification = []\n",
    "\n",
    "for i in lines:\n",
    "    cluster = kmeans.predict(vectorizer.transform([i]))\n",
    "    classification.append(cluster[0])"
   ]
  },
  {
   "cell_type": "code",
   "execution_count": 14,
   "metadata": {},
   "outputs": [],
   "source": [
    "import pandas as pd"
   ]
  },
  {
   "cell_type": "code",
   "execution_count": 15,
   "metadata": {},
   "outputs": [],
   "source": [
    "# Se crea un DataFrame incluyendo el indice de la clasificacion otorgada\n",
    "df = pd.DataFrame()\n",
    "df['Texto'] = lines\n",
    "df['Grupo'] = classification"
   ]
  },
  {
   "cell_type": "code",
   "execution_count": 16,
   "metadata": {},
   "outputs": [],
   "source": [
    "# Funcion para imprimir el texto asociado a la clasificacion realizada\n",
    "def print_lines(db,num=0):\n",
    "    df = db[db['Grupo']==num]['Texto']\n",
    "    for i in range(0,len(df)):\n",
    "        print(df.iloc[i])"
   ]
  },
  {
   "cell_type": "code",
   "execution_count": 17,
   "metadata": {},
   "outputs": [],
   "source": [
    "# print_lines(df,4)"
   ]
  },
  {
   "cell_type": "code",
   "execution_count": 18,
   "metadata": {},
   "outputs": [],
   "source": [
    "# Almacenar las palabras claves que designan a cada grupo\n",
    "centroides = kmeans.cluster_centers_.argsort() [:, ::-1]\n",
    "palabras = vectorizer.get_feature_names()"
   ]
  },
  {
   "cell_type": "code",
   "execution_count": 19,
   "metadata": {},
   "outputs": [
    {
     "name": "stdout",
     "output_type": "stream",
     "text": [
      "Grupo 0:\n",
      " de\n",
      " servicios\n",
      " en\n",
      " asesorías\n",
      " servicio\n",
      " actividades\n",
      " integrales\n",
      " seguridad\n",
      " asesorias\n",
      " belleza\n",
      "Grupo 1:\n",
      " al\n",
      " por\n",
      " de\n",
      " mayor\n",
      " venta\n",
      " menor\n",
      " productos\n",
      " otros\n",
      " artículos\n",
      " en\n",
      "Grupo 2:\n",
      " comida\n",
      " paso\n",
      " de\n",
      " establecimientos\n",
      " rapida\n",
      " al\n",
      " soda\n",
      " rápida\n",
      " bebidas\n",
      " preparada\n",
      "Grupo 3:\n",
      " actividades\n",
      " otras\n",
      " servicios\n",
      " de\n",
      " esparcimiento\n",
      " deportivas\n",
      " agrícolas\n",
      " ganaderos\n",
      " act\n",
      " entretenimiento\n",
      "Grupo 4:\n",
      " de\n",
      " en\n",
      " servicios\n",
      " la\n",
      " comercialización\n",
      " todo\n",
      " productos\n",
      " tipo\n",
      " general\n",
      " construcción\n",
      "Grupo 5:\n",
      " carga\n",
      " carretera\n",
      " transporte\n",
      " por\n",
      " de\n",
      " transportes\n",
      " terrestre\n",
      " nacional\n",
      " venta\n",
      " obras\n",
      "Grupo 6:\n",
      " fabricación\n",
      " de\n",
      " muebles\n",
      " prendas\n",
      " textiles\n",
      " productos\n",
      " piel\n",
      " vestir\n",
      " construcción\n",
      " otros\n",
      "Grupo 7:\n",
      " alimentos\n",
      " menor\n",
      " de\n",
      " bebidas\n",
      " venta\n",
      " por\n",
      " tabacos\n",
      " especializados\n",
      " almc\n",
      " procesamiento\n",
      "Grupo 8:\n",
      " actividades\n",
      " técnicas\n",
      " arquitectura\n",
      " ingeniería\n",
      " otras\n",
      " de\n",
      " construcción\n",
      " servicios\n",
      " profesionales\n",
      " prestadas\n",
      "Grupo 9:\n",
      " automotores\n",
      " vehículos\n",
      " de\n",
      " mantenimiento\n",
      " reparación\n",
      " partes\n",
      " piezas\n",
      " venta\n",
      " accesorios\n",
      " motocicletas\n",
      "Grupo 10:\n",
      " de\n",
      " venta\n",
      " compra\n",
      " articulos\n",
      " artículos\n",
      " accesorios\n",
      " productos\n",
      " repuestos\n",
      " ropa\n",
      " vestuario\n",
      "Grupo 11:\n",
      " construccion\n",
      " obras\n",
      " menores\n",
      " de\n",
      " en\n",
      " mantencion\n",
      " ingenieria\n",
      " contratista\n",
      " civiles\n",
      " edificios\n",
      "Grupo 12:\n",
      " menor\n",
      " comercio\n",
      " al\n",
      " por\n",
      " almacenes\n",
      " en\n",
      " no\n",
      " de\n",
      " especializados\n",
      " realizado\n",
      "Grupo 13:\n",
      " transporte\n",
      " tipos\n",
      " terrestre\n",
      " vía\n",
      " de\n",
      " otros\n",
      " por\n",
      " campamentos\n",
      " temporal\n",
      " equipo\n",
      "Grupo 14:\n",
      " informáticos\n",
      " servicios\n",
      " telecomunicaciones\n",
      " actividades\n",
      " de\n",
      " otras\n",
      " construcción\n",
      " desarrollo\n",
      " software\n",
      " experimental\n",
      "Grupo 15:\n",
      " edificios\n",
      " de\n",
      " residenciales\n",
      " condominios\n",
      " limpieza\n",
      " administracion\n",
      " consejo\n",
      " mantencion\n",
      " partes\n",
      " administración\n",
      "Grupo 16:\n",
      " de\n",
      " la\n",
      " el\n",
      " que\n",
      " en\n",
      " los\n",
      " con\n",
      " cualquier\n",
      " actividad\n",
      " otra\n",
      "Grupo 17:\n",
      " act\n",
      " empresariales\n",
      " profesionales\n",
      " prestadas\n",
      " de\n",
      " empresas\n",
      " actividades\n",
      " otras\n",
      " servicios\n",
      " organizaciones\n",
      "Grupo 18:\n",
      " menores\n",
      " obras\n",
      " contratista\n",
      " construcción\n",
      " en\n",
      " de\n",
      " civiles\n",
      " albañiles\n",
      " ingenieria\n",
      " servicios\n",
      "Grupo 19:\n",
      " elaboración\n",
      " alimenticios\n",
      " productos\n",
      " de\n",
      " otros\n",
      " cerveza\n",
      " bebidas\n",
      " alimentos\n",
      " venta\n",
      " prod\n",
      "Grupo 20:\n",
      " eventos\n",
      " de\n",
      " producción\n",
      " produccion\n",
      " servicios\n",
      " arriendo\n",
      " para\n",
      " audiovisual\n",
      " actividades\n",
      " asesorias\n",
      "Grupo 21:\n",
      " realizadas\n",
      " inmobiliarias\n",
      " arrendados\n",
      " actividades\n",
      " propios\n",
      " bienes\n",
      " con\n",
      " de\n",
      " act\n",
      " retribución\n",
      "Grupo 22:\n",
      " cantinas\n",
      " restaurantes\n",
      " bares\n",
      " alimentos\n",
      " bebidas\n",
      " de\n",
      " tabacos\n",
      " conservación\n",
      " almc\n",
      " especializados\n",
      "Grupo 23:\n",
      " pasajeros\n",
      " transporte\n",
      " de\n",
      " turismo\n",
      " terrestre\n",
      " privado\n",
      " carga\n",
      " trabajadores\n",
      " via\n",
      " transportes\n",
      "Grupo 24:\n",
      " comercializadora\n",
      " agricolas\n",
      " de\n",
      " frutas\n",
      " verduras\n",
      " productos\n",
      " importadora\n",
      " compra\n",
      " venta\n",
      " exportadora\n",
      "Grupo 25:\n",
      " de\n",
      " la\n",
      " en\n",
      " el\n",
      " clase\n",
      " toda\n",
      " todo\n",
      " que\n",
      " tipo\n",
      " bienes\n",
      "Grupo 26:\n",
      " de\n",
      " equipo\n",
      " fab\n",
      " otros\n",
      " reparación\n",
      " maquinaria\n",
      " alquiler\n",
      " actividades\n",
      " tipos\n",
      " fabricación\n",
      "Grupo 27:\n",
      " asesoramiento\n",
      " empresarial\n",
      " actividades\n",
      " de\n",
      " en\n",
      " materia\n",
      " jurídicas\n",
      " general\n",
      " gestión\n",
      " servicios\n",
      "Grupo 28:\n",
      " humana\n",
      " salud\n",
      " relacionadas\n",
      " actividades\n",
      " con\n",
      " la\n",
      " empresariales\n",
      " de\n",
      " otras\n",
      " servicios\n",
      "Grupo 29:\n",
      " construcción\n",
      " arquitectura\n",
      " buques\n",
      " ingenieria\n",
      " electricidad\n",
      " embarcaciones\n",
      " telecomunicaciones\n",
      " publicidad\n",
      " ingeniería\n",
      " general\n"
     ]
    }
   ],
   "source": [
    "# Imprimir las palabras\n",
    "for i in range(k_chosen):\n",
    "    print(f\"Grupo {i}:\"),\n",
    "    for ind in centroides[i, :10]:\n",
    "        print(f' {palabras[ind]}')"
   ]
  },
  {
   "cell_type": "code",
   "execution_count": 20,
   "metadata": {},
   "outputs": [],
   "source": [
    "# Al revisar los resultados, vemos que para algunos casos, como el tipo 0, se mezclan considerablemente los giros\n",
    "# de sociedades. De igual forma, trataremos de clasificarlos de la manera mas representativa acorde a las palabras\n",
    "# que representan a cada grupo."
   ]
  },
  {
   "cell_type": "code",
   "execution_count": 21,
   "metadata": {},
   "outputs": [],
   "source": [
    "rep = {0:'Servicios Generales',1:'Venta de productos',2:'Venta de comida',3:'Servicios Generales',4:'Comercializacion de Productos',\n",
    "       5:'Servicios de Transporte',6:'Fabricacion de productos',7:'Venta de alimentos y tabaco',8:'Arquitectura, Ingenieria y Construccion',\n",
    "       9:'Servicio Automotriz',10:'Venta de productos',11:'Arquitectura, Ingenieria y Construccion',12:'Venta de productos',\n",
    "       13:'Servicios de Transporte',14:'Servicios Informaticos',15:'Servicios de Administracion',16:'Servicios Generales',\n",
    "       17:'Prestacion de Servicios',18:'Arquitectura, Ingenieria y Construccion',19:'Elaboracion de Alimentos',\n",
    "       20:'Produccion de Eventos',21:'Actividades Inmobiliarias',22:'Venta de comida',23:'Servicios de Transporte',\n",
    "       24:'Comercializadora Agricola',25:'Servicios Generales',26:'Servicios de Maquinaria',27:'Servicios de Asesoramiento',\n",
    "       28:'Servicios de Salud',29:'Arquitectura, Ingenieria y Construccion'}"
   ]
  },
  {
   "cell_type": "code",
   "execution_count": 22,
   "metadata": {},
   "outputs": [],
   "source": [
    "df['Nombre del Grupo'] = df['Grupo'].map(rep)"
   ]
  },
  {
   "cell_type": "code",
   "execution_count": 23,
   "metadata": {},
   "outputs": [
    {
     "data": {
      "text/html": [
       "<div>\n",
       "<style scoped>\n",
       "    .dataframe tbody tr th:only-of-type {\n",
       "        vertical-align: middle;\n",
       "    }\n",
       "\n",
       "    .dataframe tbody tr th {\n",
       "        vertical-align: top;\n",
       "    }\n",
       "\n",
       "    .dataframe thead th {\n",
       "        text-align: right;\n",
       "    }\n",
       "</style>\n",
       "<table border=\"1\" class=\"dataframe\">\n",
       "  <thead>\n",
       "    <tr style=\"text-align: right;\">\n",
       "      <th></th>\n",
       "      <th>Texto</th>\n",
       "      <th>Grupo</th>\n",
       "      <th>Nombre del Grupo</th>\n",
       "    </tr>\n",
       "  </thead>\n",
       "  <tbody>\n",
       "    <tr>\n",
       "      <th>0</th>\n",
       "      <td>CONSTRUCCIÓN, ALQUILER DE OTROS TIPOS DE MAQUI...</td>\n",
       "      <td>21</td>\n",
       "      <td>Actividades Inmobiliarias</td>\n",
       "    </tr>\n",
       "    <tr>\n",
       "      <th>1</th>\n",
       "      <td>el servicio de turismo por todo el territorio ...</td>\n",
       "      <td>25</td>\n",
       "      <td>Servicios Generales</td>\n",
       "    </tr>\n",
       "    <tr>\n",
       "      <th>2</th>\n",
       "      <td>SALON DE BELLEZA.</td>\n",
       "      <td>0</td>\n",
       "      <td>Servicios Generales</td>\n",
       "    </tr>\n",
       "    <tr>\n",
       "      <th>3</th>\n",
       "      <td>CURSOS ONLINE DE MUSICA, COCINA, CLASES DE MUS...</td>\n",
       "      <td>20</td>\n",
       "      <td>Produccion de Eventos</td>\n",
       "    </tr>\n",
       "    <tr>\n",
       "      <th>4</th>\n",
       "      <td>el ejercicio de la actividad comercial,importa...</td>\n",
       "      <td>16</td>\n",
       "      <td>Servicios Generales</td>\n",
       "    </tr>\n",
       "  </tbody>\n",
       "</table>\n",
       "</div>"
      ],
      "text/plain": [
       "                                               Texto  Grupo  \\\n",
       "0  CONSTRUCCIÓN, ALQUILER DE OTROS TIPOS DE MAQUI...     21   \n",
       "1  el servicio de turismo por todo el territorio ...     25   \n",
       "2                                  SALON DE BELLEZA.      0   \n",
       "3  CURSOS ONLINE DE MUSICA, COCINA, CLASES DE MUS...     20   \n",
       "4  el ejercicio de la actividad comercial,importa...     16   \n",
       "\n",
       "            Nombre del Grupo  \n",
       "0  Actividades Inmobiliarias  \n",
       "1        Servicios Generales  \n",
       "2        Servicios Generales  \n",
       "3      Produccion de Eventos  \n",
       "4        Servicios Generales  "
      ]
     },
     "execution_count": 23,
     "metadata": {},
     "output_type": "execute_result"
    }
   ],
   "source": [
    "df.head()"
   ]
  },
  {
   "cell_type": "code",
   "execution_count": 24,
   "metadata": {},
   "outputs": [
    {
     "data": {
      "text/plain": [
       "19"
      ]
     },
     "execution_count": 24,
     "metadata": {},
     "output_type": "execute_result"
    }
   ],
   "source": [
    "len(df['Nombre del Grupo'].unique())"
   ]
  },
  {
   "cell_type": "code",
   "execution_count": 25,
   "metadata": {},
   "outputs": [],
   "source": [
    "# Vemos que, acorde a los grupos que se definieron utilizando este metodo, se identificaron 19 grupos diferentes.\n",
    "# Sin embargo, el metodo utilizado de igual forma genero mezclas que no estan relacionadas, probaremos con otros metodos para\n",
    "# observar si es posible obtener mejores resultados, utilizando nuevamente k = 20."
   ]
  },
  {
   "cell_type": "code",
   "execution_count": 26,
   "metadata": {},
   "outputs": [
    {
     "data": {
      "text/plain": [
       "Texto               el servicio de turismo por todo el territorio ...\n",
       "Grupo                                                              25\n",
       "Nombre del Grupo                                  Servicios Generales\n",
       "Name: 1, dtype: object"
      ]
     },
     "execution_count": 26,
     "metadata": {},
     "output_type": "execute_result"
    }
   ],
   "source": [
    "df.iloc[1]"
   ]
  },
  {
   "cell_type": "code",
   "execution_count": 27,
   "metadata": {},
   "outputs": [],
   "source": [
    "# Observamos ahora cual es el grupo que se repitio con mas frecuencia"
   ]
  },
  {
   "cell_type": "code",
   "execution_count": 28,
   "metadata": {},
   "outputs": [],
   "source": [
    "import seaborn as sns\n",
    "import matplotlib.pyplot as plt"
   ]
  },
  {
   "cell_type": "code",
   "execution_count": 29,
   "metadata": {},
   "outputs": [
    {
     "data": {
      "image/png": "[encoded data removed]",
      "text/plain": [
       "<Figure size 792x432 with 1 Axes>"
      ]
     },
     "metadata": {
      "needs_background": "light"
     },
     "output_type": "display_data"
    }
   ],
   "source": [
    "plt.figure(figsize=(11,6))\n",
    "sns.countplot(x='Grupo',data=df,color=\"#3366cc\")\n",
    "plt.title(\"Frecuencia de Cada Tema\")\n",
    "plt.show()"
   ]
  },
  {
   "cell_type": "code",
   "execution_count": 30,
   "metadata": {},
   "outputs": [
    {
     "name": "stdout",
     "output_type": "stream",
     "text": [
      "Servicios Generales\n"
     ]
    }
   ],
   "source": [
    "# Vemos que el grupo 0 fue el mas asignado\n",
    "print(rep[0])"
   ]
  },
  {
   "cell_type": "code",
   "execution_count": 31,
   "metadata": {},
   "outputs": [],
   "source": [
    "# Dado que corresponde a Servicios Generales, implica que lo mas asignado en este caso fueron servicios no identificados\n",
    "# de la mejor forma. Probaremos y reutilizaremos la informacion adquirida en este proceso para otros metodos de agrupacion"
   ]
  }
 ],
 "metadata": {
  "kernelspec": {
   "display_name": "Python 3",
   "language": "python",
   "name": "python3"
  },
  "language_info": {
   "codemirror_mode": {
    "name": "ipython",
    "version": 3
   },
   "file_extension": ".py",
   "mimetype": "text/x-python",
   "name": "python",
   "nbconvert_exporter": "python",
   "pygments_lexer": "ipython3",
   "version": "3.7.0"
  }
 },
 "nbformat": 4,
 "nbformat_minor": 2
}
